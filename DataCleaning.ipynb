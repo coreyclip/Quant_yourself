{
 "cells": [
  {
   "cell_type": "markdown",
   "metadata": {},
   "source": [
    "## Data Wrangling\n",
    "In this notebook I'll be demonstrating a few steps and procedures one might take in cleaning up a messy dataset. Most data encountered in the wild will require some (or a lot) of cleaning and processing. The currated datasets you may encounter in other tutorials being the exception. "
   ]
  },
  {
   "cell_type": "code",
   "execution_count": 26,
   "metadata": {},
   "outputs": [],
   "source": [
    "import pandas as pd\n",
    "import numpy as np"
   ]
  },
  {
   "cell_type": "code",
   "execution_count": 4,
   "metadata": {},
   "outputs": [],
   "source": [
    "df = pd.read_csv('Health Data.csv')"
   ]
  },
  {
   "cell_type": "code",
   "execution_count": 6,
   "metadata": {},
   "outputs": [
    {
     "name": "stdout",
     "output_type": "stream",
     "text": [
      "<class 'pandas.core.frame.DataFrame'>\n",
      "RangeIndex: 865 entries, 0 to 864\n",
      "Data columns (total 7 columns):\n",
      "Start                     865 non-null object\n",
      "Finish                    865 non-null object\n",
      "Active Calories (kcal)    865 non-null float64\n",
      "Dietary Calories (cal)    865 non-null float64\n",
      "Distance (mi)             865 non-null float64\n",
      "Steps (count)             865 non-null float64\n",
      "Weight (lb)               865 non-null float64\n",
      "dtypes: float64(5), object(2)\n",
      "memory usage: 47.4+ KB\n"
     ]
    }
   ],
   "source": [
    "df.info()"
   ]
  },
  {
   "cell_type": "code",
   "execution_count": 15,
   "metadata": {},
   "outputs": [
    {
     "name": "stdout",
     "output_type": "stream",
     "text": [
      "<class 'pandas.core.frame.DataFrame'>\n",
      "RangeIndex: 865 entries, 0 to 864\n",
      "Data columns (total 7 columns):\n",
      "start       865 non-null object\n",
      "finish      865 non-null object\n",
      "active      865 non-null float64\n",
      "diet        865 non-null float64\n",
      "distance    865 non-null float64\n",
      "steps       865 non-null float64\n",
      "weight      865 non-null float64\n",
      "dtypes: float64(5), object(2)\n",
      "memory usage: 47.4+ KB\n"
     ]
    }
   ],
   "source": [
    "df.columns = ['start', 'finish', 'active', 'diet', 'distance', 'steps', 'weight']\n",
    "df.info()"
   ]
  },
  {
   "cell_type": "markdown",
   "metadata": {},
   "source": [
    "There's no way I actually completely logged 865 days of calories and weight "
   ]
  },
  {
   "cell_type": "code",
   "execution_count": 22,
   "metadata": {},
   "outputs": [
    {
     "name": "stdout",
     "output_type": "stream",
     "text": [
      "info on days that diet was logged\n",
      "----------------------------------------------------------------------------------------------------\n",
      "<class 'pandas.core.frame.DataFrame'>\n",
      "Int64Index: 29 entries, 520 to 558\n",
      "Data columns (total 7 columns):\n",
      "start       29 non-null object\n",
      "finish      29 non-null object\n",
      "active      29 non-null float64\n",
      "diet        29 non-null float64\n",
      "distance    29 non-null float64\n",
      "steps       29 non-null float64\n",
      "weight      29 non-null float64\n",
      "dtypes: float64(5), object(2)\n",
      "memory usage: 1.8+ KB\n",
      "None\n",
      "\n",
      "info on days that weight was logged\n",
      "----------------------------------------------------------------------------------------------------\n",
      "<class 'pandas.core.frame.DataFrame'>\n",
      "Int64Index: 28 entries, 521 to 857\n",
      "Data columns (total 7 columns):\n",
      "start       28 non-null object\n",
      "finish      28 non-null object\n",
      "active      28 non-null float64\n",
      "diet        28 non-null float64\n",
      "distance    28 non-null float64\n",
      "steps       28 non-null float64\n",
      "weight      28 non-null float64\n",
      "dtypes: float64(5), object(2)\n",
      "memory usage: 1.8+ KB\n",
      "None\n",
      "\n",
      "info on days that diet and weight was logged\n",
      "----------------------------------------------------------------------------------------------------\n",
      "<class 'pandas.core.frame.DataFrame'>\n",
      "Int64Index: 8 entries, 521 to 551\n",
      "Data columns (total 7 columns):\n",
      "start       8 non-null object\n",
      "finish      8 non-null object\n",
      "active      8 non-null float64\n",
      "diet        8 non-null float64\n",
      "distance    8 non-null float64\n",
      "steps       8 non-null float64\n",
      "weight      8 non-null float64\n",
      "dtypes: float64(5), object(2)\n",
      "memory usage: 512.0+ bytes\n",
      "None\n"
     ]
    }
   ],
   "source": [
    "logged_diet = df[df['diet'] > 0]\n",
    "logged_weight = df[df['weight'] > 0]\n",
    "logged_diet_weight = logged_diet[logged_diet['weight'] > 0]\n",
    "\n",
    "print('info on days that diet was logged')\n",
    "print('-----' * 20)\n",
    "print(logged_diet.info())\n",
    "print()\n",
    "print('info on days that weight was logged')\n",
    "print('-----' * 20)\n",
    "print(logged_weight.info())\n",
    "print()\n",
    "print('info on days that diet and weight was logged')\n",
    "print('-----' * 20)\n",
    "print(logged_diet_weight.info())"
   ]
  },
  {
   "cell_type": "code",
   "execution_count": 23,
   "metadata": {},
   "outputs": [],
   "source": [
    "np.beta(,)"
   ]
  },
  {
   "cell_type": "code",
   "execution_count": 33,
   "metadata": {},
   "outputs": [
    {
     "data": {
      "text/plain": [
       "1179190.0"
      ]
     },
     "execution_count": 33,
     "metadata": {},
     "output_type": "execute_result"
    }
   ],
   "source": [
    "logged_diet.diet.quantile(.5)"
   ]
  },
  {
   "cell_type": "code",
   "execution_count": null,
   "metadata": {},
   "outputs": [],
   "source": []
  }
 ],
 "metadata": {
  "kernelspec": {
   "display_name": "Python 3",
   "language": "python",
   "name": "python3"
  },
  "language_info": {
   "codemirror_mode": {
    "name": "ipython",
    "version": 3
   },
   "file_extension": ".py",
   "mimetype": "text/x-python",
   "name": "python",
   "nbconvert_exporter": "python",
   "pygments_lexer": "ipython3",
   "version": "3.7.0"
  }
 },
 "nbformat": 4,
 "nbformat_minor": 2
}
